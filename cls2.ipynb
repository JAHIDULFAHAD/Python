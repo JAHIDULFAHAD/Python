{
 "cells": [
  {
   "cell_type": "code",
   "execution_count": 8,
   "id": "aafff4b7",
   "metadata": {},
   "outputs": [
    {
     "name": "stdout",
     "output_type": "stream",
     "text": [
      "[10, 20, 20]\n"
     ]
    },
    {
     "data": {
      "text/plain": [
       "list"
      ]
     },
     "execution_count": 8,
     "metadata": {},
     "output_type": "execute_result"
    }
   ],
   "source": [
    "l=[10,20,20]\n",
    "print(l)\n",
    "type(l)"
   ]
  },
  {
   "cell_type": "code",
   "execution_count": 7,
   "id": "e218ef03",
   "metadata": {},
   "outputs": [],
   "source": [
    "def greet (name):\n",
    "    print (gre\n",
    "    "
   ]
  },
  {
   "cell_type": "code",
   "execution_count": 18,
   "id": "e8a32aee",
   "metadata": {},
   "outputs": [
    {
     "name": "stdout",
     "output_type": "stream",
     "text": [
      "[20, 40, 60, 80]\n"
     ]
    }
   ],
   "source": [
    "def makeDouble(l):\n",
    "    newlist=[]\n",
    "    for i in range (len(l)):\n",
    "        newlist.append(l[i]*2)\n",
    "    return newlist\n",
    "\n",
    "L=[10,20,30,40]\n",
    "print(makeDouble(L))"
   ]
  },
  {
   "cell_type": "code",
   "execution_count": 20,
   "id": "1392dc1d",
   "metadata": {},
   "outputs": [
    {
     "name": "stdout",
     "output_type": "stream",
     "text": [
      "3.0\n"
     ]
    }
   ],
   "source": [
    "import math\n",
    "print(math.sqrt(9))\n"
   ]
  },
  {
   "cell_type": "code",
   "execution_count": 25,
   "id": "e705d9b4",
   "metadata": {},
   "outputs": [
    {
     "name": "stdout",
     "output_type": "stream",
     "text": [
      "5.196152422706632\n"
     ]
    }
   ],
   "source": [
    "import math\n",
    "\n",
    "def distance(l1,l2):\n",
    "    sum=0\n",
    "    if len(l1)==len(l2):\n",
    "        for i in range(len(l1)):\n",
    "            sum=sum+ (l1[i]-l2[i])**2\n",
    "        return math.sqrt(sum)\n",
    "    else:\n",
    "        return \"Not Possible\"\n",
    "    \n",
    "L1=[2,4,6]\n",
    "L2=[5,7,9]\n",
    "print(distance(L1,L2))"
   ]
  },
  {
   "cell_type": "code",
   "execution_count": 33,
   "id": "d411ece0",
   "metadata": {},
   "outputs": [
    {
     "name": "stdout",
     "output_type": "stream",
     "text": [
      "[7, 11, 15] [10, 28, 54] [3, 3, 3]\n"
     ]
    }
   ],
   "source": [
    "def myfunc(l1,l2):\n",
    "    A=[]\n",
    "    M=[]\n",
    "    S=[]\n",
    "    for i in range(len(l2)):\n",
    "        A.append(l1[i]+l2[i])\n",
    "        M.append(l1[i]*l2[i])\n",
    "        S.append(l2[i]-l1[i])\n",
    "        \n",
    "    return A,M,S\n",
    "L1=[2,4,6]\n",
    "L2=[5,7,9]\n",
    "addition,multiply,subtract=myfunc(L1,L2)\n",
    "print(addition,multiply,subtract)"
   ]
  },
  {
   "cell_type": "code",
   "execution_count": 38,
   "id": "569aa723",
   "metadata": {},
   "outputs": [
    {
     "name": "stdout",
     "output_type": "stream",
     "text": [
      "120\n"
     ]
    }
   ],
   "source": [
    "def fact(n):\n",
    "    if n==0 or n==1:\n",
    "        return 1\n",
    "    else:\n",
    "        return n*fact(n-1)\n",
    "print(fact(5))"
   ]
  },
  {
   "cell_type": "code",
   "execution_count": 51,
   "id": "c8f1bb1d",
   "metadata": {},
   "outputs": [
    {
     "name": "stdout",
     "output_type": "stream",
     "text": [
      "354224848179261915075\n"
     ]
    }
   ],
   "source": [
    "def fibo(n):\n",
    "    F=[]\n",
    "    F.append(0)\n",
    "    F.append(1)\n",
    "    for i in range(2,n+1):\n",
    "        F.append(F[i-1]+F[i-2])\n",
    "    return F[-1]\n",
    "    \n",
    "print(fibo(100))"
   ]
  },
  {
   "cell_type": "code",
   "execution_count": 58,
   "id": "5f6ff3bf",
   "metadata": {},
   "outputs": [
    {
     "name": "stdout",
     "output_type": "stream",
     "text": [
      "[2, 2.0, 2.0, 2]\n"
     ]
    }
   ],
   "source": [
    "def linespace(low,upper,n):\n",
    "    A=[]\n",
    "    A.append(low)\n",
    "    H=(upper-low)/n\n",
    "    for i in range (1,n):\n",
    "        A.append(A[i-1]+H)\n",
    "    A.append(upper)\n",
    "    return A\n",
    "\n",
    "print(linespace(2,2,3))\n",
    "    "
   ]
  },
  {
   "cell_type": "code",
   "execution_count": 66,
   "id": "595e58ac",
   "metadata": {},
   "outputs": [
    {
     "data": {
      "image/png": "[encoded data removed]",
      "text/plain": [
       "<Figure size 640x480 with 1 Axes>"
      ]
     },
     "metadata": {},
     "output_type": "display_data"
    }
   ],
   "source": [
    "def linespace(low,upper,n):\n",
    "    A=[]\n",
    "    A.append(low)\n",
    "    H=(upper-low)/n\n",
    "    for i in range (1,n):\n",
    "        A.append(A[i-1]+H)\n",
    "    A.append(upper)\n",
    "    return A\n",
    "#f(x)=x^2\n",
    "def f(listx):\n",
    "    ylist=[]\n",
    "    for i in range(len(listx)):\n",
    "        ylist.append(2*listx[i]**2+listx[i]+5)\n",
    "    return ylist\n",
    "x=linespace(-10,10,100)\n",
    "y=f(x)\n",
    "\n",
    "import matplotlib.pyplot as plt\n",
    "plt.plot(x,y)\n",
    "plt.grid()\n",
    "plt.show()\n"
   ]
  },
  {
   "cell_type": "code",
   "execution_count": null,
   "id": "972e7103",
   "metadata": {},
   "outputs": [],
   "source": []
  }
 ],
 "metadata": {
  "kernelspec": {
   "display_name": "Python 3 (ipykernel)",
   "language": "python",
   "name": "python3"
  },
  "language_info": {
   "codemirror_mode": {
    "name": "ipython",
    "version": 3
   },
   "file_extension": ".py",
   "mimetype": "text/x-python",
   "name": "python",
   "nbconvert_exporter": "python",
   "pygments_lexer": "ipython3",
   "version": "3.11.5"
  }
 },
 "nbformat": 4,
 "nbformat_minor": 5
}
