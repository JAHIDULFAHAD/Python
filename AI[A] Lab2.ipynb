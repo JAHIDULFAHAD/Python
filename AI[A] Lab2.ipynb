{
 "cells": [
  {
   "cell_type": "markdown",
   "id": "a94e77f2",
   "metadata": {},
   "source": [
    "# Function\n",
    "- User define function\n",
    "- List\n",
    "- Library function - Math"
   ]
  },
  {
   "cell_type": "code",
   "execution_count": 10,
   "id": "24628e89",
   "metadata": {},
   "outputs": [
    {
     "name": "stdout",
     "output_type": "stream",
     "text": [
      "10\n",
      "2\n"
     ]
    }
   ],
   "source": [
    "# f(x)=2*x\n",
    "\n",
    "def f(x=1):\n",
    "    return x*2\n",
    "\n",
    "print(f(5))\n",
    "print(f())\n"
   ]
  },
  {
   "cell_type": "code",
   "execution_count": 7,
   "id": "24abed35",
   "metadata": {},
   "outputs": [
    {
     "name": "stdout",
     "output_type": "stream",
     "text": [
      "Hello Richard\n",
      "Hello Jonathon\n",
      "Hello Mr. P\n"
     ]
    }
   ],
   "source": [
    "def greet(name=\"Mr. P\"):\n",
    "    return \"Hello \"+name\n",
    "\n",
    "print(greet(\"Richard\"))\n",
    "print(greet(\"Jonathon\"))\n",
    "print(greet())"
   ]
  },
  {
   "cell_type": "code",
   "execution_count": 15,
   "id": "9d71aeb9",
   "metadata": {},
   "outputs": [
    {
     "name": "stdout",
     "output_type": "stream",
     "text": [
      "100\n"
     ]
    }
   ],
   "source": [
    "def f1(l):\n",
    "    sum=0\n",
    "    for i in l:\n",
    "        sum+=i\n",
    "    return sum\n",
    "\n",
    "def f2(l):\n",
    "    sum=0\n",
    "    for index in range(len(l)):\n",
    "        sum=sum+l[index]\n",
    "    return sum\n",
    "\n",
    "L=[10,20,30,40]\n",
    "print(f2(L))"
   ]
  },
  {
   "cell_type": "code",
   "execution_count": 16,
   "id": "f7170284",
   "metadata": {},
   "outputs": [
    {
     "name": "stdout",
     "output_type": "stream",
     "text": [
      "[20, 40, 60, 80]\n"
     ]
    }
   ],
   "source": [
    "def makeDouble(l):\n",
    "    newlist=[]\n",
    "    for i in range(len(l)):\n",
    "        newlist.append(l[i]*2)\n",
    "    return newlist\n",
    "\n",
    "L=[10,20,30,40]\n",
    "print(makeDouble(L))"
   ]
  },
  {
   "cell_type": "code",
   "execution_count": 3,
   "id": "8b0772d0",
   "metadata": {},
   "outputs": [
    {
     "name": "stdout",
     "output_type": "stream",
     "text": [
      "5.196152422706632\n"
     ]
    }
   ],
   "source": [
    "'''\n",
    "The formula for the distance between two vectors \n",
    "a=⟨x1,y1,z1⟩ \n",
    "b=⟨x2,y2,z2⟩ is \n",
    "distance=math.sqrt((x1−x2)^2+(y1−y2)^2+(z1−z2)^2)\n",
    "'''\n",
    "import math\n",
    "\n",
    "def distance(l1,l2):\n",
    "    sum=0\n",
    "    if len(l1)==len(l2):\n",
    "        for i in range(len(l1)):\n",
    "            sum=sum + (l1[i]-l2[i])**2\n",
    "        return math.sqrt(sum)\n",
    "    else:\n",
    "        return \"Not Posiible\"\n",
    "\n",
    "L1=[2,4,6]\n",
    "L2=[5,7,9]\n",
    "print(distance(L1,L2))\n"
   ]
  },
  {
   "cell_type": "code",
   "execution_count": 24,
   "id": "6c4d365c",
   "metadata": {},
   "outputs": [
    {
     "name": "stdout",
     "output_type": "stream",
     "text": [
      "[7, 11, 15] [10, 28, 54]\n"
     ]
    }
   ],
   "source": [
    "def myfunc(l1,l2):\n",
    "    A=[]\n",
    "    M=[]\n",
    "    for i in range(len(l2)):\n",
    "        A.append(l1[i]+l2[i])\n",
    "        M.append(l1[i]*l2[i])\n",
    "    return A,M\n",
    "    \n",
    "L1=[2,4,6]\n",
    "L2=[5,7,9]\n",
    "\n",
    "addition, multiply = myfunc(L1,L2)\n",
    "print(addition,multiply)"
   ]
  },
  {
   "cell_type": "markdown",
   "id": "ad316857",
   "metadata": {},
   "source": [
    "# Factorial \n",
    "# Fibonacci"
   ]
  },
  {
   "cell_type": "code",
   "execution_count": 24,
   "id": "2a098e07",
   "metadata": {},
   "outputs": [
    {
     "name": "stdout",
     "output_type": "stream",
     "text": [
      "24\n"
     ]
    }
   ],
   "source": [
    "def fact(n):\n",
    "    if n==0 or n==1:\n",
    "        return 1\n",
    "    else:\n",
    "        return n*fact(n-1)\n",
    "\n",
    "print(fact(4))"
   ]
  },
  {
   "cell_type": "code",
   "execution_count": 35,
   "id": "962990e1",
   "metadata": {},
   "outputs": [
    {
     "name": "stdout",
     "output_type": "stream",
     "text": [
      "55\n"
     ]
    }
   ],
   "source": [
    "def fibo(n):\n",
    "    if n==0:\n",
    "        return 0\n",
    "    elif n==1:\n",
    "        return 1\n",
    "    else:\n",
    "        return fibo(n-1)+fibo(n-2)\n",
    "\n",
    "print(fibo(10))"
   ]
  },
  {
   "cell_type": "code",
   "execution_count": 29,
   "id": "eeaf9c1a",
   "metadata": {},
   "outputs": [
    {
     "name": "stdout",
     "output_type": "stream",
     "text": [
      "5\n"
     ]
    }
   ],
   "source": [
    "def fibo(n):\n",
    "    F=[]\n",
    "    F.append(0)\n",
    "    F.append(1)\n",
    "    for i in range(2,n+1):\n",
    "        F.append(F[i-1]+F[i-2])\n",
    "    return F[-1]\n",
    "\n",
    "print(fibo(5))"
   ]
  },
  {
   "cell_type": "code",
   "execution_count": 48,
   "id": "946e8c9f",
   "metadata": {},
   "outputs": [
    {
     "name": "stdout",
     "output_type": "stream",
     "text": [
      "[-2, -1.6, -1.2000000000000002, -0.8000000000000002, -0.40000000000000013, -1.1102230246251565e-16, 0.3999999999999999, 0.7999999999999999, 1.2, 1.6, 2]\n",
      "[11, 8.520000000000001, 6.680000000000001, 5.48, 4.92, 5.0, 5.72, 7.08, 9.08, 11.72, 15]\n"
     ]
    },
    {
     "data": {
      "image/png": "[encoded data removed]",
      "text/plain": [
       "<Figure size 640x480 with 1 Axes>"
      ]
     },
     "metadata": {},
     "output_type": "display_data"
    }
   ],
   "source": [
    "def linspace(low,upper,n):\n",
    "    a=[]\n",
    "    a.append(low)\n",
    "    h=(upper-low)/n\n",
    "    for i in range(1,n):\n",
    "        a.append(a[i-1]+h)\n",
    "    a.append(upper)\n",
    "    return a\n",
    "\n",
    "#f(x)=x^2\n",
    "def f(listx):\n",
    "    ylist=[]\n",
    "    for i in range(len(listx)):\n",
    "        ylist.append(2*listx[i]**2+listx[i]+5)\n",
    "    return ylist\n",
    "\n",
    "x=linspace(-2,2,10)\n",
    "y=f(x)\n",
    "print(x)\n",
    "print(y)\n",
    "\n",
    "import matplotlib.pyplot as plt\n",
    "plt.plot(x,y)\n",
    "plt.grid()\n",
    "plt.show()\n",
    "        "
   ]
  },
  {
   "cell_type": "code",
   "execution_count": null,
   "id": "a27d6ed4",
   "metadata": {},
   "outputs": [],
   "source": []
  }
 ],
 "metadata": {
  "kernelspec": {
   "display_name": "Python 3 (ipykernel)",
   "language": "python",
   "name": "python3"
  },
  "language_info": {
   "codemirror_mode": {
    "name": "ipython",
    "version": 3
   },
   "file_extension": ".py",
   "mimetype": "text/x-python",
   "name": "python",
   "nbconvert_exporter": "python",
   "pygments_lexer": "ipython3",
   "version": "3.11.5"
  }
 },
 "nbformat": 4,
 "nbformat_minor": 5
}
