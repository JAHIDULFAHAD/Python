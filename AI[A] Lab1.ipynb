{
 "cells": [
  {
   "cell_type": "markdown",
   "id": "cf26fa1f",
   "metadata": {},
   "source": [
    "\n",
    "# Topics we cover\n",
    "\n",
    "1. Data Types and variables\n",
    "2. Operator(Arithmetic and logical) and expresion\n",
    "3. if else/ if elif......... else\n",
    "4. Data structure in Python: List, Set, Map\n",
    "4. Loops\n",
    "5. Function\n",
    "6. Library Function--- math, numpy, matplotlib, panda"
   ]
  },
  {
   "cell_type": "markdown",
   "id": "c40f1bf8",
   "metadata": {},
   "source": [
    "# This is my first program in python"
   ]
  },
  {
   "cell_type": "code",
   "execution_count": 1,
   "id": "00af8a77",
   "metadata": {},
   "outputs": [
    {
     "name": "stdout",
     "output_type": "stream",
     "text": [
      "Welcome to AI class\n"
     ]
    }
   ],
   "source": [
    "print(\"Welcome to AI class\")"
   ]
  },
  {
   "cell_type": "markdown",
   "id": "00a1480f",
   "metadata": {},
   "source": [
    "# Data Types and variables"
   ]
  },
  {
   "cell_type": "code",
   "execution_count": 4,
   "id": "bcf6ff3e",
   "metadata": {},
   "outputs": [
    {
     "data": {
      "text/plain": [
       "int"
      ]
     },
     "execution_count": 4,
     "metadata": {},
     "output_type": "execute_result"
    }
   ],
   "source": [
    "a=10\n",
    "type(a)"
   ]
  },
  {
   "cell_type": "code",
   "execution_count": 5,
   "id": "d117de8d",
   "metadata": {},
   "outputs": [
    {
     "data": {
      "text/plain": [
       "float"
      ]
     },
     "execution_count": 5,
     "metadata": {},
     "output_type": "execute_result"
    }
   ],
   "source": [
    "b=3.9\n",
    "type(b)"
   ]
  },
  {
   "cell_type": "code",
   "execution_count": 6,
   "id": "1f1414ad",
   "metadata": {},
   "outputs": [
    {
     "data": {
      "text/plain": [
       "str"
      ]
     },
     "execution_count": 6,
     "metadata": {},
     "output_type": "execute_result"
    }
   ],
   "source": [
    "name=\"Richard\"\n",
    "type(name)"
   ]
  },
  {
   "cell_type": "code",
   "execution_count": 11,
   "id": "a7871597",
   "metadata": {},
   "outputs": [
    {
     "data": {
      "text/plain": [
       "bool"
      ]
     },
     "execution_count": 11,
     "metadata": {},
     "output_type": "execute_result"
    }
   ],
   "source": [
    "flag1 = False\n",
    "flag2 = True\n",
    "type(flag1)"
   ]
  },
  {
   "cell_type": "markdown",
   "id": "3c782237",
   "metadata": {},
   "source": [
    "x = [\"apple\", \"banana\", \"cherry\"]----->list\t\n",
    "x = (\"apple\", \"banana\", \"cherry\")--->tuple\t\n",
    "x = range(6)\t--------------------->range\t\n",
    "x = {\"name\" : \"John\", \"age\" : 36}----->dict\t\n",
    "x = {\"apple\", \"banana\", \"cherry\"}----> set"
   ]
  },
  {
   "cell_type": "markdown",
   "id": "e699ab61",
   "metadata": {},
   "source": [
    "# Operator\n",
    "### Arithmetic\n",
    "### Logical"
   ]
  },
  {
   "cell_type": "code",
   "execution_count": 12,
   "id": "1a3ebbf5",
   "metadata": {},
   "outputs": [
    {
     "name": "stdout",
     "output_type": "stream",
     "text": [
      "30\n"
     ]
    }
   ],
   "source": [
    "a=10\n",
    "b=20\n",
    "print(a+b)\n"
   ]
  },
  {
   "cell_type": "code",
   "execution_count": 13,
   "id": "bb8ea776",
   "metadata": {},
   "outputs": [
    {
     "name": "stdout",
     "output_type": "stream",
     "text": [
      "-10\n"
     ]
    }
   ],
   "source": [
    "print(a-b)\n"
   ]
  },
  {
   "cell_type": "code",
   "execution_count": 14,
   "id": "30087449",
   "metadata": {},
   "outputs": [
    {
     "name": "stdout",
     "output_type": "stream",
     "text": [
      "200\n"
     ]
    }
   ],
   "source": [
    "print(a*b)\n"
   ]
  },
  {
   "cell_type": "code",
   "execution_count": 18,
   "id": "776c3186",
   "metadata": {},
   "outputs": [
    {
     "name": "stdout",
     "output_type": "stream",
     "text": [
      "0\n",
      "0.5\n"
     ]
    }
   ],
   "source": [
    "print(a//b) # 10 int div 20 = 0\n",
    "print(a/b) # float div"
   ]
  },
  {
   "cell_type": "code",
   "execution_count": 20,
   "id": "8dfcf3e0",
   "metadata": {},
   "outputs": [
    {
     "name": "stdout",
     "output_type": "stream",
     "text": [
      "8\n"
     ]
    }
   ],
   "source": [
    "print(2**3)"
   ]
  },
  {
   "cell_type": "code",
   "execution_count": 21,
   "id": "b65bbdba",
   "metadata": {},
   "outputs": [
    {
     "name": "stdout",
     "output_type": "stream",
     "text": [
      "1\n"
     ]
    }
   ],
   "source": [
    "c=10\n",
    "d=3\n",
    "print(c%d)"
   ]
  },
  {
   "cell_type": "code",
   "execution_count": 26,
   "id": "6413e169",
   "metadata": {},
   "outputs": [
    {
     "name": "stdout",
     "output_type": "stream",
     "text": [
      "False\n",
      "True\n",
      "False\n",
      "True\n"
     ]
    }
   ],
   "source": [
    "a=10\n",
    "b=20\n",
    "print(a>=b)\n",
    "print(a<=b)\n",
    "print(a==b)\n",
    "print(a!=b)"
   ]
  },
  {
   "cell_type": "markdown",
   "id": "5dff53a7",
   "metadata": {},
   "source": [
    "# Conditional Statement\n",
    "if ....... else"
   ]
  },
  {
   "cell_type": "code",
   "execution_count": 28,
   "id": "f27d05f8",
   "metadata": {},
   "outputs": [
    {
     "name": "stdout",
     "output_type": "stream",
     "text": [
      "Please enter age:20\n",
      "20\n"
     ]
    },
    {
     "data": {
      "text/plain": [
       "int"
      ]
     },
     "execution_count": 28,
     "metadata": {},
     "output_type": "execute_result"
    }
   ],
   "source": [
    "age = int(input(\"Please enter age:\"))\n",
    "print(age)\n",
    "type(age)"
   ]
  },
  {
   "cell_type": "code",
   "execution_count": 31,
   "id": "73428194",
   "metadata": {},
   "outputs": [
    {
     "name": "stdout",
     "output_type": "stream",
     "text": [
      "Please enter age:20\n",
      "I am adult\n",
      " I am another Line\n"
     ]
    }
   ],
   "source": [
    "age = int(input(\"Please enter age:\"))\n",
    "if age>=18:\n",
    "    print(\"I am adult\")\n",
    "    print(\"I am another Line\")\n",
    "else:\n",
    "    print(\"I am not adult\")\n",
    "        "
   ]
  },
  {
   "cell_type": "code",
   "execution_count": 35,
   "id": "6cbe790a",
   "metadata": {},
   "outputs": [
    {
     "name": "stdout",
     "output_type": "stream",
     "text": [
      "Please enter marks:100\n",
      "A+\n"
     ]
    }
   ],
   "source": [
    "marks = int(input(\"Please enter marks:\"))\n",
    "if marks>=90:\n",
    "    print(\"A+\")\n",
    "elif marks>=85 and marks<=89:\n",
    "    print(\"A\")\n",
    "else:\n",
    "    print(\"F\")\n",
    "    "
   ]
  },
  {
   "cell_type": "markdown",
   "id": "139d1962",
   "metadata": {},
   "source": [
    "# Loops\n",
    "---> for\n",
    "---> while\n",
    "---> do while\n",
    "---> break and continue"
   ]
  },
  {
   "cell_type": "code",
   "execution_count": 42,
   "id": "e4bd9f50",
   "metadata": {},
   "outputs": [
    {
     "name": "stdout",
     "output_type": "stream",
     "text": [
      "0 1 2 3 4 5 6 7 8 9 "
     ]
    }
   ],
   "source": [
    "for i in range(10):\n",
    "    print(i, end=\" \")"
   ]
  },
  {
   "cell_type": "code",
   "execution_count": 45,
   "id": "9ef66898",
   "metadata": {},
   "outputs": [
    {
     "name": "stdout",
     "output_type": "stream",
     "text": [
      "0 1 2 3 4 "
     ]
    }
   ],
   "source": [
    "i =0\n",
    "while i<5:\n",
    "    print(i,end=\" \")\n",
    "    i+=1"
   ]
  },
  {
   "cell_type": "code",
   "execution_count": 49,
   "id": "a3453170",
   "metadata": {},
   "outputs": [
    {
     "name": "stdout",
     "output_type": "stream",
     "text": [
      "0 1 2 3 4 5 6 7 8 9 10 "
     ]
    }
   ],
   "source": [
    "for i in range(20):\n",
    "    if i==11:\n",
    "        break\n",
    "    print(i, end=\" \")"
   ]
  },
  {
   "cell_type": "code",
   "execution_count": 50,
   "id": "2e3f8d6a",
   "metadata": {},
   "outputs": [
    {
     "name": "stdout",
     "output_type": "stream",
     "text": [
      "0 1 2 3 4 11 12 13 14 15 16 17 18 19 "
     ]
    }
   ],
   "source": [
    "for i in range(20):\n",
    "    if i>=5 and i<=10:\n",
    "        continue\n",
    "    print(i,end=\" \")"
   ]
  },
  {
   "cell_type": "code",
   "execution_count": 51,
   "id": "bf80de94",
   "metadata": {},
   "outputs": [
    {
     "name": "stdout",
     "output_type": "stream",
     "text": [
      "2 4 6 8 10 12 14 16 18 20 22 24 26 28 30 32 34 36 38 40 42 44 46 48 50 52 54 56 58 60 62 64 66 68 70 72 74 76 78 80 82 84 86 88 90 92 94 96 98 100 "
     ]
    }
   ],
   "source": [
    "for i in range(1,101):\n",
    "    if i%2==1:\n",
    "        continue\n",
    "    print(i,end=\" \")"
   ]
  },
  {
   "cell_type": "markdown",
   "id": "3463a81f",
   "metadata": {},
   "source": [
    "# List"
   ]
  },
  {
   "cell_type": "code",
   "execution_count": 54,
   "id": "ff4e53aa",
   "metadata": {},
   "outputs": [
    {
     "name": "stdout",
     "output_type": "stream",
     "text": [
      "<class 'list'>\n"
     ]
    }
   ],
   "source": [
    "l1=[]\n",
    "print(type(l1))"
   ]
  },
  {
   "cell_type": "code",
   "execution_count": 55,
   "id": "c484c38f",
   "metadata": {},
   "outputs": [
    {
     "name": "stdout",
     "output_type": "stream",
     "text": [
      "[10, 20]\n"
     ]
    }
   ],
   "source": [
    "l1.append(10)\n",
    "l1.append(20)\n",
    "print(l1)"
   ]
  },
  {
   "cell_type": "code",
   "execution_count": 56,
   "id": "f6953a8e",
   "metadata": {},
   "outputs": [
    {
     "name": "stdout",
     "output_type": "stream",
     "text": [
      "[20, 10]\n"
     ]
    }
   ],
   "source": [
    "l1.reverse()\n",
    "print(l1)"
   ]
  },
  {
   "cell_type": "code",
   "execution_count": 59,
   "id": "af0d5a8e",
   "metadata": {},
   "outputs": [
    {
     "name": "stdout",
     "output_type": "stream",
     "text": [
      "[20, 10, 10]\n"
     ]
    }
   ],
   "source": [
    "l1.append(10)\n",
    "print(l1)"
   ]
  },
  {
   "cell_type": "code",
   "execution_count": 60,
   "id": "8dc17bcc",
   "metadata": {},
   "outputs": [
    {
     "data": {
      "text/plain": [
       "2"
      ]
     },
     "execution_count": 60,
     "metadata": {},
     "output_type": "execute_result"
    }
   ],
   "source": [
    "l1.count(10)"
   ]
  },
  {
   "cell_type": "code",
   "execution_count": 63,
   "id": "fe7df207",
   "metadata": {},
   "outputs": [
    {
     "name": "stdout",
     "output_type": "stream",
     "text": [
      "[1, 2, 3, 4, 5, 6, 7, 8, 9, 10, 11, 12, 13, 14, 15, 16, 17, 18, 19, 20, 21, 22, 23, 24, 25, 26, 27, 28, 29, 30, 31, 32, 33, 34, 35, 36, 37, 38, 39, 40, 41, 42, 43, 44, 45, 46, 47, 48, 49, 50, 51, 52, 53, 54, 55, 56, 57, 58, 59, 60, 61, 62, 63, 64, 65, 66, 67, 68, 69, 70, 71, 72, 73, 74, 75, 76, 77, 78, 79, 80, 81, 82, 83, 84, 85, 86, 87, 88, 89, 90, 91, 92, 93, 94, 95, 96, 97, 98, 99, 100, 101, 102, 103, 104, 105, 106, 107, 108, 109, 110, 111, 112, 113, 114, 115, 116, 117, 118, 119, 120, 121, 122, 123, 124, 125, 126, 127, 128, 129, 130, 131, 132, 133, 134, 135, 136, 137, 138, 139, 140, 141, 142, 143, 144, 145, 146, 147, 148, 149, 150, 151, 152, 153, 154, 155, 156, 157, 158, 159, 160, 161, 162, 163, 164, 165, 166, 167, 168, 169, 170, 171, 172, 173, 174, 175, 176, 177, 178, 179, 180, 181, 182, 183, 184, 185, 186, 187, 188, 189, 190, 191, 192, 193, 194, 195, 196, 197, 198, 199, 200, 201, 202, 203, 204, 205, 206, 207, 208, 209, 210, 211, 212, 213, 214, 215, 216, 217, 218, 219, 220, 221, 222, 223, 224, 225, 226, 227, 228, 229, 230, 231, 232, 233, 234, 235, 236, 237, 238, 239, 240, 241, 242, 243, 244, 245, 246, 247, 248, 249, 250, 251, 252, 253, 254, 255, 256, 257, 258, 259, 260, 261, 262, 263, 264, 265, 266, 267, 268, 269, 270, 271, 272, 273, 274, 275, 276, 277, 278, 279, 280, 281, 282, 283, 284, 285, 286, 287, 288, 289, 290, 291, 292, 293, 294, 295, 296, 297, 298, 299, 300, 301, 302, 303, 304, 305, 306, 307, 308, 309, 310, 311, 312, 313, 314, 315, 316, 317, 318, 319, 320, 321, 322, 323, 324, 325, 326, 327, 328, 329, 330, 331, 332, 333, 334, 335, 336, 337, 338, 339, 340, 341, 342, 343, 344, 345, 346, 347, 348, 349, 350, 351, 352, 353, 354, 355, 356, 357, 358, 359, 360, 361, 362, 363, 364, 365, 366, 367, 368, 369, 370, 371, 372, 373, 374, 375, 376, 377, 378, 379, 380, 381, 382, 383, 384, 385, 386, 387, 388, 389, 390, 391, 392, 393, 394, 395, 396, 397, 398, 399, 400, 401, 402, 403, 404, 405, 406, 407, 408, 409, 410, 411, 412, 413, 414, 415, 416, 417, 418, 419, 420, 421, 422, 423, 424, 425, 426, 427, 428, 429, 430, 431, 432, 433, 434, 435, 436, 437, 438, 439, 440, 441, 442, 443, 444, 445, 446, 447, 448, 449, 450, 451, 452, 453, 454, 455, 456, 457, 458, 459, 460, 461, 462, 463, 464, 465, 466, 467, 468, 469, 470, 471, 472, 473, 474, 475, 476, 477, 478, 479, 480, 481, 482, 483, 484, 485, 486, 487, 488, 489, 490, 491, 492, 493, 494, 495, 496, 497, 498, 499, 500, 501, 502, 503, 504, 505, 506, 507, 508, 509, 510, 511, 512, 513, 514, 515, 516, 517, 518, 519, 520, 521, 522, 523, 524, 525, 526, 527, 528, 529, 530, 531, 532, 533, 534, 535, 536, 537, 538, 539, 540, 541, 542, 543, 544, 545, 546, 547, 548, 549, 550, 551, 552, 553, 554, 555, 556, 557, 558, 559, 560, 561, 562, 563, 564, 565, 566, 567, 568, 569, 570, 571, 572, 573, 574, 575, 576, 577, 578, 579, 580, 581, 582, 583, 584, 585, 586, 587, 588, 589, 590, 591, 592, 593, 594, 595, 596, 597, 598, 599, 600, 601, 602, 603, 604, 605, 606, 607, 608, 609, 610, 611, 612, 613, 614, 615, 616, 617, 618, 619, 620, 621, 622, 623, 624, 625, 626, 627, 628, 629, 630, 631, 632, 633, 634, 635, 636, 637, 638, 639, 640, 641, 642, 643, 644, 645, 646, 647, 648, 649, 650, 651, 652, 653, 654, 655, 656, 657, 658, 659, 660, 661, 662, 663, 664, 665, 666, 667, 668, 669, 670, 671, 672, 673, 674, 675, 676, 677, 678, 679, 680, 681, 682, 683, 684, 685, 686, 687, 688, 689, 690, 691, 692, 693, 694, 695, 696, 697, 698, 699, 700, 701, 702, 703, 704, 705, 706, 707, 708, 709, 710, 711, 712, 713, 714, 715, 716, 717, 718, 719, 720, 721, 722, 723, 724, 725, 726, 727, 728, 729, 730, 731, 732, 733, 734, 735, 736, 737, 738, 739, 740, 741, 742, 743, 744, 745, 746, 747, 748, 749, 750, 751, 752, 753, 754, 755, 756, 757, 758, 759, 760, 761, 762, 763, 764, 765, 766, 767, 768, 769, 770, 771, 772, 773, 774, 775, 776, 777, 778, 779, 780, 781, 782, 783, 784, 785, 786, 787, 788, 789, 790, 791, 792, 793, 794, 795, 796, 797, 798, 799, 800, 801, 802, 803, 804, 805, 806, 807, 808, 809, 810, 811, 812, 813, 814, 815, 816, 817, 818, 819, 820, 821, 822, 823, 824, 825, 826, 827, 828, 829, 830, 831, 832, 833, 834, 835, 836, 837, 838, 839, 840, 841, 842, 843, 844, 845, 846, 847, 848, 849, 850, 851, 852, 853, 854, 855, 856, 857, 858, 859, 860, 861, 862, 863, 864, 865, 866, 867, 868, 869, 870, 871, 872, 873, 874, 875, 876, 877, 878, 879, 880, 881, 882, 883, 884, 885, 886, 887, 888, 889, 890, 891, 892, 893, 894, 895, 896, 897, 898, 899, 900, 901, 902, 903, 904, 905, 906, 907, 908, 909, 910, 911, 912, 913, 914, 915, 916, 917, 918, 919, 920, 921, 922, 923, 924, 925, 926, 927, 928, 929, 930, 931, 932, 933, 934, 935, 936, 937, 938, 939, 940, 941, 942, 943, 944, 945, 946, 947, 948, 949, 950, 951, 952, 953, 954, 955, 956, 957, 958, 959, 960, 961, 962, 963, 964, 965, 966, 967, 968, 969, 970, 971, 972, 973, 974, 975, 976, 977, 978, 979, 980, 981, 982, 983, 984, 985, 986, 987, 988, 989, 990, 991, 992, 993, 994, 995, 996, 997, 998, 999]\n"
     ]
    }
   ],
   "source": [
    "l2=[]\n",
    "for i in range(1,1000):\n",
    "    l2.append(i)\n",
    "print(l2)"
   ]
  },
  {
   "cell_type": "code",
   "execution_count": 65,
   "id": "c02b5c12",
   "metadata": {},
   "outputs": [
    {
     "name": "stdout",
     "output_type": "stream",
     "text": [
      "(10, 20, 30, 40, 10)\n"
     ]
    }
   ],
   "source": [
    "t1=(10,20,30,40,10)\n",
    "print(t1)"
   ]
  },
  {
   "cell_type": "code",
   "execution_count": 66,
   "id": "0e06dbe7",
   "metadata": {},
   "outputs": [
    {
     "data": {
      "text/plain": [
       "2"
      ]
     },
     "execution_count": 66,
     "metadata": {},
     "output_type": "execute_result"
    }
   ],
   "source": [
    "t1.count(10)"
   ]
  },
  {
   "cell_type": "markdown",
   "id": "892e47b8",
   "metadata": {},
   "source": [
    "\n",
    "x = {\"apple\", \"banana\", \"cherry\"}----> set"
   ]
  },
  {
   "cell_type": "code",
   "execution_count": 67,
   "id": "de9b3e14",
   "metadata": {},
   "outputs": [
    {
     "name": "stdout",
     "output_type": "stream",
     "text": [
      "{10, 20, 30}\n"
     ]
    }
   ],
   "source": [
    "s1={10,20,30,10}\n",
    "print(s1)"
   ]
  },
  {
   "cell_type": "code",
   "execution_count": 68,
   "id": "c52e9aa5",
   "metadata": {},
   "outputs": [
    {
     "name": "stdout",
     "output_type": "stream",
     "text": [
      "{40, 10, 20, 30}\n"
     ]
    }
   ],
   "source": [
    "s1.add(40)\n",
    "s1.add(30)\n",
    "print(s1)"
   ]
  },
  {
   "cell_type": "markdown",
   "id": "070722ca",
   "metadata": {},
   "source": [
    "x = {\"name\" : \"John\", \"age\" : 36}----->dict"
   ]
  },
  {
   "cell_type": "code",
   "execution_count": 73,
   "id": "0c8a75c0",
   "metadata": {},
   "outputs": [
    {
     "name": "stdout",
     "output_type": "stream",
     "text": [
      "{'a': 'Richard', 'b': 'Jonathon'}\n"
     ]
    }
   ],
   "source": [
    "d1={'a':\"Richard\",'b':\"Jonathon\"}\n",
    "print(d1)"
   ]
  },
  {
   "cell_type": "code",
   "execution_count": 70,
   "id": "7e23594c",
   "metadata": {},
   "outputs": [
    {
     "name": "stdout",
     "output_type": "stream",
     "text": [
      "Jonathon\n"
     ]
    }
   ],
   "source": [
    "print(d1[2])"
   ]
  },
  {
   "cell_type": "code",
   "execution_count": 74,
   "id": "c398a36e",
   "metadata": {},
   "outputs": [
    {
     "name": "stdout",
     "output_type": "stream",
     "text": [
      "{'a': 'Richard', 'b': 'Jonathon', 'c': 'Mr. L'}\n"
     ]
    }
   ],
   "source": [
    "d1['c']=\"Mr. L\"\n",
    "print(d1)"
   ]
  },
  {
   "cell_type": "code",
   "execution_count": 77,
   "id": "dda04138",
   "metadata": {},
   "outputs": [
    {
     "name": "stdout",
     "output_type": "stream",
     "text": [
      "a Richard\n",
      "b Jonathon\n",
      "c Mr. L\n"
     ]
    }
   ],
   "source": [
    "for i in d1:\n",
    "    print(i,d1[i])"
   ]
  },
  {
   "cell_type": "code",
   "execution_count": 81,
   "id": "14874e2b",
   "metadata": {},
   "outputs": [
    {
     "name": "stdout",
     "output_type": "stream",
     "text": [
      "a\n",
      "b\n",
      "c\n"
     ]
    }
   ],
   "source": [
    "for i in d1.keys():\n",
    "    print(i)"
   ]
  },
  {
   "cell_type": "code",
   "execution_count": 82,
   "id": "9733a433",
   "metadata": {},
   "outputs": [
    {
     "name": "stdout",
     "output_type": "stream",
     "text": [
      "Richard\n",
      "Jonathon\n",
      "Mr. L\n"
     ]
    }
   ],
   "source": [
    "for i in d1.values():\n",
    "    print(i)"
   ]
  },
  {
   "cell_type": "code",
   "execution_count": null,
   "id": "3fc0a8f3",
   "metadata": {},
   "outputs": [],
   "source": []
  }
 ],
 "metadata": {
  "kernelspec": {
   "display_name": "Python 3 (ipykernel)",
   "language": "python",
   "name": "python3"
  },
  "language_info": {
   "codemirror_mode": {
    "name": "ipython",
    "version": 3
   },
   "file_extension": ".py",
   "mimetype": "text/x-python",
   "name": "python",
   "nbconvert_exporter": "python",
   "pygments_lexer": "ipython3",
   "version": "3.11.5"
  }
 },
 "nbformat": 4,
 "nbformat_minor": 5
}
