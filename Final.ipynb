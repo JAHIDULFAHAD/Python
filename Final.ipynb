{
 "cells": [
  {
   "cell_type": "code",
   "execution_count": 18,
   "id": "245fa6bc",
   "metadata": {
    "scrolled": true
   },
   "outputs": [
    {
     "ename": "IndentationError",
     "evalue": "expected an indented block after 'for' statement on line 24 (2917717586.py, line 26)",
     "output_type": "error",
     "traceback": [
      "\u001b[1;36m  Cell \u001b[1;32mIn[18], line 26\u001b[1;36m\u001b[0m\n\u001b[1;33m    crossover(Best_two)\u001b[0m\n\u001b[1;37m                       ^\u001b[0m\n\u001b[1;31mIndentationError\u001b[0m\u001b[1;31m:\u001b[0m expected an indented block after 'for' statement on line 24\n"
     ]
    }
   ],
   "source": [
    "import random\n",
    "def random_population(n):\n",
    "    population=[]\n",
    "    size=5\n",
    "    for j in range(n):\n",
    "        chromosome=''\n",
    "        for i in range(size):\n",
    "            chromosome=chromosome+str(random.randint(0,1))\n",
    "        population.append(chromosome)\n",
    "    return population\n",
    "\n",
    "#f(x)=x^2_4x\n",
    "def f(x):\n",
    "    return x**2+4*x\n",
    "    \n",
    "def best_parent(population):\n",
    "     return sorted(population, key=lambda x: f(int(x, 2)), reverse=True)[:2]\n",
    "    \n",
    "my_population=['00111','10001','01011','10010']\n",
    "Best_two=best_parent(my_population)\n",
    "def crossover(parent):\n",
    "    position=random.randint(1,len(parent[0])-1)\n",
    "    print(position)\n",
    "    str1=''\n",
    "    str2=''\n",
    "    for i in range(len(parent)):\n",
    "        str1=str1+parent[0][i]\n",
    "        str2=str2+parent[1][i]\n",
    "    \n",
    "\n",
    "crossover(Best_two)"
   ]
  },
  {
   "cell_type": "code",
   "execution_count": null,
   "id": "f0fca79f",
   "metadata": {},
   "outputs": [],
   "source": [
    "\n"
   ]
  },
  {
   "cell_type": "code",
   "execution_count": null,
   "id": "93ac3141",
   "metadata": {},
   "outputs": [],
   "source": []
  }
 ],
 "metadata": {
  "kernelspec": {
   "display_name": "Python 3 (ipykernel)",
   "language": "python",
   "name": "python3"
  },
  "language_info": {
   "codemirror_mode": {
    "name": "ipython",
    "version": 3
   },
   "file_extension": ".py",
   "mimetype": "text/x-python",
   "name": "python",
   "nbconvert_exporter": "python",
   "pygments_lexer": "ipython3",
   "version": "3.11.5"
  }
 },
 "nbformat": 4,
 "nbformat_minor": 5
}
