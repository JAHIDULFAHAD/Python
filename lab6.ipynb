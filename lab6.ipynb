{
 "cells": [
  {
   "cell_type": "code",
   "execution_count": 4,
   "id": "ed4ef602",
   "metadata": {},
   "outputs": [
    {
     "name": "stdout",
     "output_type": "stream",
     "text": [
      "[[0, 0, 0, 0, 0, 0, 0, 0, 0], [0, 0, 0, 0, 0, 0, 0, 0, 0], [0, 0, 0, 0, 0, 0, 0, 0, 0], [0, 0, 0, 0, 0, 0, 0, 0, 0], [0, 0, 0, 0, 0, 0, 0, 0, 0], [0, 0, 0, 0, 0, 0, 0, 0, 0], [0, 0, 0, 0, 0, 0, 0, 0, 0], [0, 0, 0, 0, 0, 0, 0, 0, 0], [0, 0, 0, 0, 0, 0, 0, 0, 0]]\n",
      "[[0, 1, 0, 1, 0, 0, 0, 0, 1], [1, 0, 0, 0, 0, 0, 0, 1, 0], [0, 0, 0, 1, 0, 1, 0, 1, 0], [1, 0, 1, 0, 1, 0, 0, 0, 0], [0, 0, 0, 1, 0, 0, 0, 0, 1], [0, 0, 1, 0, 0, 0, 1, 0, 0], [0, 0, 0, 0, 0, 1, 0, 0, 0], [0, 1, 1, 0, 0, 0, 0, 0, 0], [1, 0, 0, 0, 1, 0, 0, 0, 0]]\n"
     ]
    }
   ],
   "source": [
    "#Read file\n",
    "f=open(\"g.txt\")\n",
    "vertex_and_edges=f.readline();\n",
    "#print(vertex_and_edges.split())\n",
    "vertex=int(vertex_and_edges.split()[0])\n",
    "edges=int(vertex_and_edges.split()[1])\n",
    "\n",
    "#create empty matrix\n",
    "graph=[]\n",
    "for i in range(vertex):\n",
    "    row=[]\n",
    "    for j in range(vertex):\n",
    "        row.append(0)\n",
    "    graph.append(row)\n",
    "print(graph)\n",
    "\n",
    "#populate graph data in list\n",
    "\n",
    "for line in f.readlines():\n",
    "    u=int(line.split()[0])\n",
    "    v=int(line.split()[1])\n",
    "    graph[u][v]=1\n",
    "    graph[v][u]=1\n",
    "print(graph)\n",
    "        "
   ]
  },
  {
   "cell_type": "code",
   "execution_count": 5,
   "id": "468360c1",
   "metadata": {},
   "outputs": [
    {
     "name": "stdout",
     "output_type": "stream",
     "text": [
      "{0: [], 1: [], 2: [], 3: [], 4: [], 5: [], 6: [], 7: [], 8: []}\n",
      "{0: [1, 3, 8], 1: [0, 7], 2: [3, 5, 7], 3: [0, 2, 4], 4: [3, 8], 5: [2, 6], 6: [5], 7: [1, 2], 8: [0, 4]}\n"
     ]
    }
   ],
   "source": [
    "#Read file\n",
    "f=open(\"g.txt\")\n",
    "vertex_and_edges=f.readline();\n",
    "#print(vertex_and_edges.split())\n",
    "vertex=int(vertex_and_edges.split()[0])\n",
    "edges=int(vertex_and_edges.split()[1])\n",
    "\n",
    "#create empty list\n",
    "\n",
    "List={}\n",
    "for i in range(vertex):\n",
    "    List[i]=[]\n",
    "print(List)\n",
    "\n",
    "#populate graph data in list\n",
    "\n",
    "for line in f.readlines():\n",
    "    u=int(line.split()[0])\n",
    "    v=int(line.split()[1])\n",
    "    List[u].append(v)\n",
    "    List[v].append(u)\n",
    "print(List)"
   ]
  },
  {
   "cell_type": "code",
   "execution_count": 8,
   "id": "42adff24",
   "metadata": {},
   "outputs": [
    {
     "name": "stdout",
     "output_type": "stream",
     "text": [
      "[[0, 1, 0, 0, 0, 1], [0, 0, 1, 0, 1, 0], [0, 0, 0, 1, 0, 0], [1, 1, 0, 0, 0, 0], [0, 0, 0, 1, 0, 0], [0, 0, 0, 0, 1, 0]]\n"
     ]
    }
   ],
   "source": [
    "#Read file\n",
    "f=open(\"d.txt\")\n",
    "vertex_and_edges=f.readline();\n",
    "#print(vertex_and_edges.split())\n",
    "vertex=int(vertex_and_edges.split()[0])\n",
    "edges=int(vertex_and_edges.split()[1])\n",
    "\n",
    "#create empty matrix\n",
    "graph=[]\n",
    "for i in range(vertex):\n",
    "    row=[]\n",
    "    for j in range(vertex):\n",
    "        row.append(0)\n",
    "    graph.append(row)\n",
    "#print(graph)\n",
    "\n",
    "#populate graph data in list\n",
    "\n",
    "for line in f.readlines():\n",
    "    u=int(line.split()[0])\n",
    "    v=int(line.split()[1])\n",
    "    graph[u][v]=1\n",
    "print(graph)"
   ]
  },
  {
   "cell_type": "code",
   "execution_count": 6,
   "id": "755a1bb5",
   "metadata": {},
   "outputs": [
    {
     "name": "stdout",
     "output_type": "stream",
     "text": [
      "{0: [], 1: [], 2: [], 3: [], 4: [], 5: []}\n",
      "{0: [1, 5], 1: [2, 4], 2: [3], 3: [1, 0], 4: [3], 5: [4]}\n"
     ]
    }
   ],
   "source": [
    "#Read file\n",
    "f=open(\"d.txt\")\n",
    "vertex_and_edges=f.readline();\n",
    "#print(vertex_and_edges.split())\n",
    "vertex=int(vertex_and_edges.split()[0])\n",
    "edges=int(vertex_and_edges.split()[1])\n",
    "\n",
    "#create empty list\n",
    "\n",
    "List={}\n",
    "for i in range(vertex):\n",
    "    List[i]=[]\n",
    "print(List)\n",
    "\n",
    "#populate graph data in list\n",
    "\n",
    "for line in f.readlines():\n",
    "    u=int(line.split()[0])\n",
    "    v=int(line.split()[1])\n",
    "    List[u].append(v)\n",
    "    #List[v].append(u)\n",
    "print(List)"
   ]
  },
  {
   "cell_type": "code",
   "execution_count": 13,
   "id": "0f0b95f1",
   "metadata": {},
   "outputs": [
    {
     "name": "stdout",
     "output_type": "stream",
     "text": [
      "{0: [], 1: [], 2: [], 3: [], 4: [], 5: []}\n",
      "{0: [1, 5], 1: [2, 4], 2: [3], 3: [1, 0], 4: [3], 5: [4]}\n",
      "[0, 1, 0, 0, 0, 1]\n"
     ]
    }
   ],
   "source": [
    "def adjacent(u,li):\n",
    "    return li[u]\n",
    "#Read file\n",
    "f=open(\"d.txt\")\n",
    "vertex_and_edges=f.readline();\n",
    "#print(vertex_and_edges.split())\n",
    "vertex=int(vertex_and_edges.split()[0])\n",
    "edges=int(vertex_and_edges.split()[1])\n",
    "\n",
    "#create empty list\n",
    "\n",
    "List={}\n",
    "for i in range(vertex):\n",
    "    List[i]=[]\n",
    "print(List)\n",
    "\n",
    "#populate graph data in list\n",
    "\n",
    "for line in f.readlines():\n",
    "    u=int(line.split()[0])\n",
    "    v=int(line.split()[1])\n",
    "    List[u].append(v)\n",
    "    #List[v].append(u)\n",
    "print(List)\n",
    "adj=adjacent(0,graph)\n",
    "print(adj)"
   ]
  },
  {
   "cell_type": "code",
   "execution_count": 22,
   "id": "7385550e",
   "metadata": {},
   "outputs": [
    {
     "name": "stdout",
     "output_type": "stream",
     "text": [
      "[0, 1, 0, 0, 0, 1]\n",
      "[0, 0, 1, 0, 1, 0]\n",
      "[0, 0, 0, 1, 0, 0]\n",
      "[1, 1, 0, 0, 0, 0]\n",
      "[0, 0, 0, 1, 0, 0]\n",
      "[0, 0, 0, 0, 1, 0]\n",
      "[1, 5]\n"
     ]
    }
   ],
   "source": [
    "def adjacent(M,u):\n",
    "    List2=[]\n",
    "    for i in  range(len(M[u])):\n",
    "        if M[u][i]==1:\n",
    "            List2.append(i)\n",
    "    return List2\n",
    "    \n",
    "#Read file\n",
    "f=open(\"d.txt\")\n",
    "vertex_and_edges=f.readline();\n",
    "#print(vertex_and_edges.split())\n",
    "vertex=int(vertex_and_edges.split()[0])\n",
    "edges=int(vertex_and_edges.split()[1])\n",
    "\n",
    "#create empty matrix\n",
    "graph=[]\n",
    "for i in range(vertex):\n",
    "    row=[]\n",
    "    for j in range(vertex):\n",
    "        row.append(0)\n",
    "    graph.append(row)\n",
    "#print(graph)\n",
    "\n",
    "#populate graph data in list\n",
    "\n",
    "for line in f.readlines():\n",
    "    u=int(line.split()[0])\n",
    "    v=int(line.split()[1])\n",
    "    graph[u][v]=1\n",
    "#print(graph)\n",
    "for row in graph:\n",
    "    print(row)\n",
    "    \n",
    "adj=adjacent(graph,0)\n",
    "print(adj)\n"
   ]
  },
  {
   "cell_type": "code",
   "execution_count": 40,
   "id": "ef48b0f4",
   "metadata": {},
   "outputs": [
    {
     "name": "stdout",
     "output_type": "stream",
     "text": [
      "2\n",
      "1\n"
     ]
    }
   ],
   "source": [
    "def adjacent(M,u):\n",
    "    List2=[]\n",
    "    for i in  range(len(M[u])):\n",
    "        if M[u][i]==1:\n",
    "            List2.append(i)\n",
    "    return List2\n",
    "def indegree(M,u):\n",
    "    c=0\n",
    "    for i in  range(len(M[u])):\n",
    "        if M[i][u]==1:\n",
    "            c=c+1\n",
    "    return c\n",
    "def outdegree(M,u):\n",
    "    c=0\n",
    "    for i in  range(len(M[u])):\n",
    "        if M[u][i]==1:\n",
    "            c=c+1\n",
    "    return c\n",
    "    \n",
    "    \n",
    "\n",
    "#Read file\n",
    "f=open(\"d.txt\")\n",
    "vertex_and_edges=f.readline();\n",
    "#print(vertex_and_edges.split())\n",
    "vertex=int(vertex_and_edges.split()[0])\n",
    "edges=int(vertex_and_edges.split()[1])\n",
    "\n",
    "#create empty matrix\n",
    "graph=[]\n",
    "for i in range(vertex):\n",
    "    row=[]\n",
    "    for j in range(vertex):\n",
    "        row.append(0)\n",
    "    graph.append(row)\n",
    "#print(graph)\n",
    "\n",
    "#populate graph data in list\n",
    "\n",
    "for line in f.readlines():\n",
    "    u=int(line.split()[0])\n",
    "    v=int(line.split()[1])\n",
    "    graph[u][v]=1\n",
    "indeg=indegree(graph,4)\n",
    "print(indeg)\n",
    "out=outdegree(graph,4)\n",
    "print(out)\n",
    "    "
   ]
  },
  {
   "cell_type": "code",
   "execution_count": 38,
   "id": "50bb216c",
   "metadata": {},
   "outputs": [
    {
     "name": "stdout",
     "output_type": "stream",
     "text": [
      "{0: [], 1: [], 2: [], 3: [], 4: [], 5: []}\n",
      "2\n",
      "1\n"
     ]
    }
   ],
   "source": [
    "def adjacent(M,u):\n",
    "    List2=[]\n",
    "    for i in  range(len(M[u])):\n",
    "        if M[u][i]==1:\n",
    "            List2.append(i)\n",
    "    return List2\n",
    "def outdegree(Li,u):\n",
    "    return len(Li[u])\n",
    "\n",
    "def indegree(Li,u):\n",
    "    c=0\n",
    "    for i in range(len(Li)):\n",
    "        for j in range(len(Li[i])):\n",
    "            if Li[i][j]==u:\n",
    "                c=c+1\n",
    "    return c\n",
    "#Read file\n",
    "f=open(\"d.txt\")\n",
    "vertex_and_edges=f.readline();\n",
    "#print(vertex_and_edges.split())\n",
    "vertex=int(vertex_and_edges.split()[0])\n",
    "edges=int(vertex_and_edges.split()[1])\n",
    "\n",
    "#create empty list\n",
    "\n",
    "List={}\n",
    "for i in range(vertex):\n",
    "    List[i]=[]\n",
    "print(List)\n",
    "\n",
    "#populate graph data in list\n",
    "\n",
    "for line in f.readlines():\n",
    "    u=int(line.split()[0])\n",
    "    v=int(line.split()[1])\n",
    "    List[u].append(v)\n",
    "\n",
    "indeg=indegree(List,4)\n",
    "print(indeg)\n",
    "out=outdegree(List,4)\n",
    "print(out)"
   ]
  },
  {
   "cell_type": "code",
   "execution_count": null,
   "id": "de89fc39",
   "metadata": {},
   "outputs": [],
   "source": []
  }
 ],
 "metadata": {
  "kernelspec": {
   "display_name": "Python 3 (ipykernel)",
   "language": "python",
   "name": "python3"
  },
  "language_info": {
   "codemirror_mode": {
    "name": "ipython",
    "version": 3
   },
   "file_extension": ".py",
   "mimetype": "text/x-python",
   "name": "python",
   "nbconvert_exporter": "python",
   "pygments_lexer": "ipython3",
   "version": "3.11.5"
  }
 },
 "nbformat": 4,
 "nbformat_minor": 5
}
