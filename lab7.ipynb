{
 "cells": [
  {
   "cell_type": "code",
   "execution_count": 33,
   "id": "82bad6b6",
   "metadata": {},
   "outputs": [
    {
     "name": "stdout",
     "output_type": "stream",
     "text": [
      "2\n"
     ]
    }
   ],
   "source": [
    "import random\n",
    "print(random.randint(0,2))"
   ]
  },
  {
   "cell_type": "code",
   "execution_count": 37,
   "id": "3db7e5bd",
   "metadata": {},
   "outputs": [
    {
     "name": "stdout",
     "output_type": "stream",
     "text": [
      "{0: [0, 2, 2], 1: [1, 1, 2, 1], 2: [1, 0, 2], 3: [1, 2, 0], 4: [1, 1, 2, 1], 5: [0], 6: [1, 2]}\n"
     ]
    }
   ],
   "source": [
    "import random\n",
    "f=open(\"direct.txt\")\n",
    "vertex_and_edges=f.readline();\n",
    "\n",
    "vertex=int(vertex_and_edges.split()[0])\n",
    "edges=int(vertex_and_edges.split()[1])\n",
    "\n",
    "List={}\n",
    "for i in range(vertex):\n",
    "    List[i]=[]\n",
    "\n",
    "for line in f.readlines():\n",
    "    u=int(line.split()[0])\n",
    "    v=int(line.split()[1])\n",
    "    List[u].append(random.randint(0,2))\n",
    "    List[v].append(random.randint(0,2))\n",
    "print(List)\n"
   ]
  },
  {
   "cell_type": "code",
   "execution_count": 35,
   "id": "6d86cd7d",
   "metadata": {},
   "outputs": [
    {
     "name": "stdout",
     "output_type": "stream",
     "text": [
      "[[0, 2, 2, 2, 0, 0, 0], [0, 0, 0, 0, 2, 2, 2], [1, 0, 0, 0, 2, 0, 0], [1, 0, 2, 0, 1, 0, 0], [0, 1, 0, 0, 0, 0, 1], [0, 2, 0, 0, 0, 0, 0], [0, 2, 0, 0, 2, 0, 0]]\n"
     ]
    }
   ],
   "source": [
    "import random\n",
    "f=open(\"direct.txt\")\n",
    "vertex_and_edges=f.readline();\n",
    "\n",
    "vertex=int(vertex_and_edges.split()[0])\n",
    "edges=int(vertex_and_edges.split()[1])\n",
    "\n",
    "graph=[]\n",
    "for i in range(vertex):\n",
    "    row=[]\n",
    "    for j in range(vertex):\n",
    "        row.append(0)\n",
    "    graph.append(row)\n",
    "\n",
    "for line in f.readlines():\n",
    "    u=int(line.split()[0])\n",
    "    v=int(line.split()[1])\n",
    "    graph[u][v]=random.randint(0,2)\n",
    "    graph[v][u]=random.randint(0,2)\n",
    "print(graph)"
   ]
  },
  {
   "cell_type": "code",
   "execution_count": 10,
   "id": "786a9233",
   "metadata": {},
   "outputs": [
    {
     "name": "stdout",
     "output_type": "stream",
     "text": [
      "7 10\n",
      "[0, 0, 0, 0, 0, 0, 0]\n",
      "[1, 0, 0, 0, 1, 1, 1]\n",
      "[2, 0, 0, 1, 2, 0, 0]\n",
      "[1, 0, 1, 0, 0, 0, 0]\n",
      "[0, 1, 2, 2, 0, 0, 0]\n",
      "[0, 0, 0, 0, 0, 0, 0]\n",
      "[0, 2, 0, 0, 2, 0, 0]\n",
      "{0: 0, 1: 4, 2: 3, 3: 2, 4: 3, 5: 0, 6: 2}\n",
      "0 0\n",
      "1 4\n",
      "2 3\n",
      "3 2\n",
      "4 3\n",
      "5 0\n",
      "6 2\n",
      "Maximum weight: 2\n",
      "Edges with maximum weight: {(2, 4), (4, 3), (6, 1), (2, 0), (6, 4), (4, 2)}\n"
     ]
    }
   ],
   "source": [
    "import random\n",
    "f=open(\"direct.txt\")\n",
    "linee=f.readline();\n",
    "\n",
    "n=int(linee.split()[0])\n",
    "m=int(linee.split()[1])\n",
    "print(n,m)\n",
    "\n",
    "graph=[]\n",
    "for i in range(n):\n",
    "    row=[]\n",
    "    for j in range(n):\n",
    "        row.append(0)\n",
    "    graph.append(row)\n",
    "\n",
    "for line in f.readlines():\n",
    "    u=int(line.split()[0])\n",
    "    v=int(line.split()[1])\n",
    "    graph[u][v]=random.randint(0,2)\n",
    "    graph[v][u]=random.randint(0,2)\n",
    "for row in graph:\n",
    "    print(row)\n",
    "deg={}\n",
    "for i in range(n):\n",
    "    c=0\n",
    "    for j in range(n):\n",
    "        if graph[i][j]!=0:\n",
    "            c=c+1\n",
    "    deg[i]=c\n",
    "print(deg)\n",
    "for i in deg:\n",
    "    print(i,deg[i])\n",
    "maxvalue=-1;\n",
    "maxweight={}\n",
    "for i in range(n):\n",
    "    for j in range(n):\n",
    "        if graph[i][j]>maxvalue:\n",
    "            maxvalue=graph[i][j]\n",
    "            maxweight={(i, j)}\n",
    "        elif graph[i][j] == maxvalue:\n",
    "            maxweight.add((i, j))\n",
    "print(\"Maximum weight:\",maxvalue)\n",
    "print(\"Edges with maximum weight:\", maxweight)"
   ]
  },
  {
   "cell_type": "code",
   "execution_count": null,
   "id": "8bb91f79",
   "metadata": {},
   "outputs": [],
   "source": []
  },
  {
   "cell_type": "code",
   "execution_count": null,
   "id": "1eb1e463",
   "metadata": {},
   "outputs": [],
   "source": []
  }
 ],
 "metadata": {
  "kernelspec": {
   "display_name": "Python 3 (ipykernel)",
   "language": "python",
   "name": "python3"
  },
  "language_info": {
   "codemirror_mode": {
    "name": "ipython",
    "version": 3
   },
   "file_extension": ".py",
   "mimetype": "text/x-python",
   "name": "python",
   "nbconvert_exporter": "python",
   "pygments_lexer": "ipython3",
   "version": "3.11.5"
  }
 },
 "nbformat": 4,
 "nbformat_minor": 5
}
