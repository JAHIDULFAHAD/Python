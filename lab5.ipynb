{
 "cells": [
  {
   "cell_type": "code",
   "execution_count": 1,
   "id": "b6b7fd76",
   "metadata": {},
   "outputs": [],
   "source": [
    "import numpy\n"
   ]
  },
  {
   "cell_type": "code",
   "execution_count": 5,
   "id": "866247c5",
   "metadata": {},
   "outputs": [
    {
     "name": "stdout",
     "output_type": "stream",
     "text": [
      "Fahad\n"
     ]
    }
   ],
   "source": [
    "f=open(\"hi.txt\",\"r\")\n",
    "content=f.read()\n",
    "print(content)"
   ]
  },
  {
   "cell_type": "code",
   "execution_count": 10,
   "id": "eefbb379",
   "metadata": {},
   "outputs": [
    {
     "name": "stdout",
     "output_type": "stream",
     "text": [
      "[[6, 9], [4, 5]]\n"
     ]
    }
   ],
   "source": [
    "f=open(\"hi.txt\",\"r\")\n",
    "graph=[]\n",
    "for line in f.readlines():\n",
    "    l=[]\n",
    "    l.append(int(line.split()[0]))\n",
    "    l.append(int(line.split()[1]))\n",
    "    graph.append(l)\n",
    "print(graph)"
   ]
  },
  {
   "cell_type": "code",
   "execution_count": 2,
   "id": "82e49340",
   "metadata": {},
   "outputs": [
    {
     "name": "stdout",
     "output_type": "stream",
     "text": [
      "[[6, 9], [0, 1], [0, 2], [1, 3], [1, 2], [2, 3], [3, 4], [4, 0], [4, 1], [4, 5]]\n",
      "6 9\n",
      "[[0, 0, 0, 0, 0, 0], [0, 0, 0, 0, 0, 0], [0, 0, 0, 0, 0, 0], [0, 0, 0, 0, 0, 0], [0, 0, 0, 0, 0, 0], [0, 0, 0, 0, 0, 0]]\n",
      "[[0, 1, 1, 0, 0, 0], [0, 0, 1, 1, 0, 0], [0, 0, 0, 1, 0, 0], [0, 0, 0, 0, 1, 0], [1, 1, 0, 0, 0, 1], [0, 0, 0, 0, 0, 0]]\n"
     ]
    }
   ],
   "source": [
    "def readGraphData(filename):\n",
    "    f=open(\"hi.txt\",\"r\")\n",
    "    graph=[]\n",
    "    for line in f.readlines():\n",
    "        l=[]\n",
    "        l.append(int(line.split()[0]))\n",
    "        l.append(int(line.split()[1]))\n",
    "        graph.append(l)\n",
    "    return(graph)\n",
    "def createM(v):\n",
    "    M=[]\n",
    "    for i in range(v):\n",
    "        m=[0]*v\n",
    "        M.append(m)\n",
    "    return M\n",
    "m=readGraphData(\"hi.txt\")\n",
    "print(m)\n",
    "v=m[0][0]\n",
    "e=m[0][1]\n",
    "print(v,e)\n",
    "Matrix=createM(v)\n",
    "print(Matrix)\n",
    "for i in range(1,e+1):\n",
    "    u=m[i][0]\n",
    "    v=m[i][1]\n",
    "    Matrix[u][v]=1\n",
    "print(Matrix)\n",
    "\n"
   ]
  },
  {
   "cell_type": "code",
   "execution_count": 34,
   "id": "63209ea8",
   "metadata": {},
   "outputs": [
    {
     "name": "stdout",
     "output_type": "stream",
     "text": [
      "{0: [4, 5], 1: [4, 5]}\n"
     ]
    }
   ],
   "source": [
    "def readGraphData(filename):\n",
    "    f=open(\"hi.txt\",\"r\")\n",
    "    graph=[]\n",
    "    for line in f.readlines():\n",
    "        l=[]\n",
    "        l.append(int(line.split()[0]))\n",
    "        l.append(int(line.split()[1]))\n",
    "        graph.append(l)\n",
    "    return(graph)\n",
    "def createlist(v):\n",
    "    d={}\n",
    "    \n",
    "    \n",
    "def createM(v):\n",
    "    M=[]\n",
    "    for i in range(v):\n",
    "        m=[0]*v\n",
    "        M.append(m)\n",
    "    return M\n",
    "m=readGraphData(\"hi.txt\")\n",
    "print(m)\n",
    "v=m[0][0]\n",
    "e=m[0][1]\n",
    "print(v,e)\n",
    "Matrix=createM(v)\n",
    "print(Matrix)\n",
    "for i in range(1,e+1):\n",
    "    u=m[i][0]\n",
    "    v=m[i][1]\n",
    "    d[U].append(v)\n",
    "print(Matrix)"
   ]
  },
  {
   "cell_type": "code",
   "execution_count": 3,
   "id": "6cc65a90",
   "metadata": {},
   "outputs": [
    {
     "name": "stdout",
     "output_type": "stream",
     "text": [
      "16\n",
      "19\n",
      "18\n",
      "11\n",
      "14\n",
      "11\n",
      "18\n",
      "12\n",
      "18\n",
      "10\n"
     ]
    }
   ],
   "source": [
    "from queue import Queue\n",
    "import random\n",
    "q=Queue()\n",
    "\n",
    "for i in range(10):\n",
    "    q.put(random.randint(10,20))\n",
    "while not q.empty():\n",
    "    print(q.get())\n",
    "    "
   ]
  },
  {
   "cell_type": "code",
   "execution_count": null,
   "id": "6243830c",
   "metadata": {},
   "outputs": [],
   "source": []
  },
  {
   "cell_type": "code",
   "execution_count": null,
   "id": "9a7fbda6",
   "metadata": {},
   "outputs": [],
   "source": []
  }
 ],
 "metadata": {
  "kernelspec": {
   "display_name": "Python 3 (ipykernel)",
   "language": "python",
   "name": "python3"
  },
  "language_info": {
   "codemirror_mode": {
    "name": "ipython",
    "version": 3
   },
   "file_extension": ".py",
   "mimetype": "text/x-python",
   "name": "python",
   "nbconvert_exporter": "python",
   "pygments_lexer": "ipython3",
   "version": "3.11.5"
  }
 },
 "nbformat": 4,
 "nbformat_minor": 5
}
